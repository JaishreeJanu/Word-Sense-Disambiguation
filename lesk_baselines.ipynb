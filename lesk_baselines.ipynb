{
  "cells": [
    {
      "cell_type": "markdown",
      "metadata": {
        "id": "qyD64CD6vBwo"
      },
      "source": [
        "##### Implementation of two baseline algorithms for Word Sense Disambiguation -- the most common sense and the plain lesk"
      ]
    },
    {
      "cell_type": "code",
      "execution_count": null,
      "metadata": {
        "colab": {
          "base_uri": "https://localhost:8080/"
        },
        "id": "cORAUzzwghvN",
        "outputId": "1e299654-6bf8-4d8c-d2f1-abcec286bdcd"
      },
      "outputs": [
        {
          "output_type": "stream",
          "name": "stderr",
          "text": [
            "[nltk_data] Downloading package wordnet to /root/nltk_data...\n",
            "[nltk_data]   Package wordnet is already up-to-date!\n",
            "[nltk_data] Downloading package omw-1.4 to /root/nltk_data...\n",
            "[nltk_data]   Package omw-1.4 is already up-to-date!\n"
          ]
        }
      ],
      "source": [
        "import nltk\n",
        "nltk.download('wordnet')\n",
        "nltk.download('omw-1.4')\n",
        "\n",
        "from nltk.corpus import wordnet as wn\n",
        "from loader import *\n",
        "from dict_utilities import *\n",
        "\n",
        "import numpy as np\n",
        "from numpy.linalg import norm\n",
        "\n",
        "import gensim.downloader as api"
      ]
    },
    {
      "cell_type": "markdown",
      "metadata": {
        "id": "GQr1rzMBvGmX"
      },
      "source": [
        "#### The most common sense algorithm for WSD -- The sense which comes up first in the list of senses."
      ]
    },
    {
      "cell_type": "code",
      "execution_count": null,
      "metadata": {
        "id": "jPOxmIBpiJSr"
      },
      "outputs": [],
      "source": [
        "SEMCOR_DATA_FILE = './semcor.data.xml'\n",
        "SEMCOR_LABELLED = './semcor.gold.key.txt'\n",
        "SENSEVAL_2_DATA_FILE = './senseval2.data.xml'\n",
        "SENSEVAL_2_LABELLED = './senseval2.gold.key.txt'\n",
        "SENSEVAL_3_DATA_FILE = './senseval3.data.xml'\n",
        "SENSEVAL_3_LABELLED = './senseval3.gold.key.txt'"
      ]
    },
    {
      "cell_type": "code",
      "execution_count": null,
      "metadata": {
        "id": "0lSS22LBu2Zq"
      },
      "outputs": [],
      "source": [
        "semcor_lemmas = load_instances(SEMCOR_DATA_FILE)\n",
        "senseval_2_lemmas = load_instances(SENSEVAL_2_DATA_FILE)\n",
        "senseval_3_lemmas = load_instances(SENSEVAL_3_DATA_FILE)"
      ]
    },
    {
      "cell_type": "code",
      "execution_count": null,
      "metadata": {
        "id": "m-e2KpyAvU_5"
      },
      "outputs": [],
      "source": [
        "def most_common_sense(lemma):\n",
        "  '''\n",
        "  Returns the first sense of the input lemma\n",
        "  '''\n",
        "  ## Get the synsets of the lemma and synset keys\n",
        "  \n",
        "  all_synset_keys = []\n",
        "  for synset in wn.synsets(lemma):\n",
        "    this_synset = []\n",
        "    for key in synset.lemmas():\n",
        "        this_synset.append(key.key())\n",
        "    all_synset_keys.append(this_synset)\n",
        "\n",
        "  ## Return the first key in the list\n",
        "  #print(\"The predicted sense of the lemma {} is: {}\".format(lemma, all_synset_keys[0]))\n",
        "\n",
        "  return all_synset_keys[0]"
      ]
    },
    {
      "cell_type": "markdown",
      "metadata": {
        "id": "116cV3Aozgnl"
      },
      "source": [
        "#### Run the algorithm on labelled lemmas and find the accuracy"
      ]
    },
    {
      "cell_type": "code",
      "execution_count": null,
      "metadata": {
        "id": "fK2xGOeqs4IA"
      },
      "outputs": [],
      "source": [
        "def get_labels(LABEL_FILE):\n",
        "  \"\"\"\n",
        "  Reads the labels/annotations of the lemmas and returns in dictionary form\n",
        "  \"\"\"\n",
        "  labels = {}\n",
        "  for line in open(LABEL_FILE):\n",
        "    if len(line) <= 1: continue\n",
        "    lemma_id_label = line.strip().split(\" \")\n",
        "\n",
        "    labels[lemma_id_label[0]] = lemma_id_label[1:]\n",
        "\n",
        "  return labels"
      ]
    },
    {
      "cell_type": "code",
      "execution_count": null,
      "metadata": {
        "id": "0T4FbvJWtlny"
      },
      "outputs": [],
      "source": [
        "def eval_common_sense(lemmas, labels):\n",
        "  \"\"\"\n",
        "  Finds the accuracy of the common sense algorithms on one of the given datasets:\n",
        "  semcor, senseval2, senseval3\n",
        "  \"\"\"\n",
        "  correct_count = 0\n",
        "  total = len(labels)\n",
        "\n",
        "  for lemma_id, label in labels.items():\n",
        "    pred_label = most_common_sense(lemmas[lemma_id].lemma)\n",
        "    correct_label = labels[lemma_id][0]\n",
        "\n",
        "    for prediction in pred_label:\n",
        "      if correct_label == prediction:\n",
        "        correct_count += 1\n",
        "        break\n",
        "\n",
        "  return (correct_count/total)*100"
      ]
    },
    {
      "cell_type": "code",
      "execution_count": null,
      "metadata": {
        "id": "twDGwDCAvkJh"
      },
      "outputs": [],
      "source": [
        "## Read the semcor labelled lemmas\n",
        "semcor_labels = get_labels(SEMCOR_LABELLED)\n",
        "senseval_2_labels = get_labels(SENSEVAL_2_LABELLED)\n",
        "senseval_3_labels = get_labels(SENSEVAL_3_LABELLED)"
      ]
    },
    {
      "cell_type": "code",
      "execution_count": null,
      "metadata": {
        "colab": {
          "base_uri": "https://localhost:8080/"
        },
        "id": "iGLIwd9ZzF5Q",
        "outputId": "1abffbcf-8fae-423e-c440-fc9185ac703f"
      },
      "outputs": [
        {
          "output_type": "stream",
          "name": "stdout",
          "text": [
            "Accuracy on Semcor dataset: 48.674105009821446\n",
            "Accuracy on Senseval2 dataset: 49.25503943908852\n",
            "Accuracy on Senseval3 dataset: 47.945945945945944\n"
          ]
        }
      ],
      "source": [
        "## Evaluate most common sense algorithm\n",
        "print(\"Accuracy on Semcor dataset:\", eval_common_sense(semcor_lemmas, semcor_labels))\n",
        "print(\"Accuracy on Senseval2 dataset:\", eval_common_sense(senseval_2_lemmas, senseval_2_labels))\n",
        "print(\"Accuracy on Senseval3 dataset:\", eval_common_sense(senseval_3_lemmas, senseval_3_labels))"
      ]
    },
    {
      "cell_type": "markdown",
      "metadata": {
        "id": "5Wm0al8Y5xqm"
      },
      "source": [
        "#### Implementation of the plain lesk algorithm -- the one that finds the overlap of lemmas between context and the gloss."
      ]
    },
    {
      "cell_type": "code",
      "execution_count": null,
      "metadata": {
        "id": "L0UU3nnx2buQ"
      },
      "outputs": [],
      "source": [
        "def plain_lesk(lemma, context):\n",
        "  \"\"\"\n",
        "  Implementation of the plain lesk algorithm. Return the predicted sense\n",
        "  for the input lemma in the given context.\n",
        "  \"\"\"\n",
        "  ## Get the glosses of the lemma from the wordnet\n",
        "\n",
        "  synsets = []\n",
        "  for synset in wn.synsets(lemma):\n",
        "    synsets.append(synset)\n",
        "\n",
        "  overlap_count = 0\n",
        "  predicted_synset = synsets[0] ## Just initialize it, updated in this for loop\n",
        "  for synset in synsets:\n",
        "    ## Find the overlap between the gloss and context\n",
        "    overlap = list(set(synset.definition()).intersection(set(context)))\n",
        "    if len(overlap)> overlap_count:\n",
        "      ## Save the synset which has the most overlap till now\n",
        "      predicted_synset = synset\n",
        "      overlap_count = len(overlap)\n",
        "\n",
        "  ## Get the sense keys of the synset which has the most overlaps \n",
        "  predicted_keys = []\n",
        "  for key in predicted_synset.lemmas():\n",
        "    predicted_keys.append(key.key())\n",
        "\n",
        "  return predicted_keys"
      ]
    },
    {
      "cell_type": "code",
      "execution_count": null,
      "metadata": {
        "id": "r3AkQheF0KfM"
      },
      "outputs": [],
      "source": [
        "def eval_plain_lesk(lemmas, labels):\n",
        "  \"\"\"\n",
        "  Evaluation of the plain lesk algorithm\n",
        "  \"\"\"\n",
        "  correct_count = 0\n",
        "  total = len(labels)\n",
        "  for lemma_id, label in labels.items():\n",
        "    pred_label = plain_lesk(lemmas[lemma_id].lemma, lemmas[lemma_id].context)\n",
        "\n",
        "    correct_label = labels[lemma_id][0]\n",
        "\n",
        "    for prediction in pred_label:\n",
        "      if correct_label == prediction:\n",
        "        correct_count += 1\n",
        "        break\n",
        "\n",
        "  return (correct_count/total)*100"
      ]
    },
    {
      "cell_type": "code",
      "execution_count": null,
      "metadata": {
        "colab": {
          "base_uri": "https://localhost:8080/"
        },
        "id": "uNZfUf3b0KhX",
        "outputId": "b84968b2-30dc-40a5-df12-586b840b0b10"
      },
      "outputs": [
        {
          "output_type": "stream",
          "name": "stdout",
          "text": [
            "Accuracy on Semcor dataset: 44.2283530057159\n",
            "Accuracy on Senseval2 dataset: 44.8729184925504\n",
            "Accuracy on Senseval3 dataset: 43.027027027027025\n"
          ]
        }
      ],
      "source": [
        "## Evaluate the plain lesk algorithm\n",
        "print(\"Accuracy on Semcor dataset:\", eval_plain_lesk(semcor_lemmas, semcor_labels))\n",
        "print(\"Accuracy on Senseval2 dataset:\", eval_plain_lesk(senseval_2_lemmas, senseval_2_labels))\n",
        "print(\"Accuracy on Senseval3 dataset:\", eval_plain_lesk(senseval_3_lemmas, senseval_3_labels))"
      ]
    },
    {
      "cell_type": "markdown",
      "metadata": {
        "id": "9zqxO9Yv5VqF"
      },
      "source": [
        "### Accuracies of baselines on all three datasets summarized here:"
      ]
    },
    {
      "cell_type": "markdown",
      "metadata": {
        "id": "ZZtOI-ZN5cGA"
      },
      "source": [
        "| Algorithm      | Semcor | Senseval2 | Senseval3\n",
        "| ----------- | ----------- |----------- |----------- |\n",
        "| Most Common Sense      | 48.67       | 49.25 | 47.94\n",
        "| The Plain Lesk   | 44.23       | 44.87 | 43.03"
      ]
    }
  ],
  "metadata": {
    "accelerator": "GPU",
    "colab": {
      "collapsed_sections": [],
      "provenance": []
    },
    "gpuClass": "standard",
    "kernelspec": {
      "display_name": "Python 3",
      "name": "python3"
    },
    "language_info": {
      "name": "python"
    }
  },
  "nbformat": 4,
  "nbformat_minor": 0
}